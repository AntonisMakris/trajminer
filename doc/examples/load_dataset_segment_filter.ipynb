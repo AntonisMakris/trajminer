{
 "cells": [
  {
   "cell_type": "markdown",
   "metadata": {},
   "source": [
    "# Exploring, Segmenting, and Filtering a Trajectory Dataset"
   ]
  },
  {
   "cell_type": "markdown",
   "metadata": {},
   "source": [
    "SOMETHING IS WRONG HERE. TO BE CORRECTED\n",
    "\n",
    "This tutorial will introduce you to the basics of preprocessing a trajectory dataset with trajminer. We will use the Starkey dataset, a dataset of animals trajectories that can be easily loaded with trajminer. When loading a built-in dataset, you can pass ``verbose=True`` to see what is going on behind the curtains."
   ]
  },
  {
   "cell_type": "code",
   "execution_count": 1,
   "metadata": {},
   "outputs": [
    {
     "name": "stdout",
     "output_type": "stream",
     "text": [
      "Downloading file starkey.tar.xz\n",
      "Extracting content of /tmp/trajminer_data_6bqj5bg7/starkey.tar.xz\n",
      "Loading dataset from /tmp/trajminer_data_6bqj5bg7/starkey.csv\n"
     ]
    }
   ],
   "source": [
    "from trajminer.datasets import load_starkey_animals\n",
    "\n",
    "data = load_starkey_animals(verbose=True)"
   ]
  },
  {
   "cell_type": "markdown",
   "metadata": {},
   "source": [
    "After loading a dataset, we can have a quick overview of the data by running:"
   ]
  },
  {
   "cell_type": "code",
   "execution_count": 2,
   "metadata": {},
   "outputs": [
    {
     "data": {
      "text/plain": [
       "{'attribute': {'count': 6, 'min': 6, 'avg': 6.0, 'std': 0.0, 'max': 6},\n",
       " 'point': {'count': 287136},\n",
       " 'trajectory': {'count': 253,\n",
       "  'length': {'min': 43,\n",
       "   'avg': 1134.9249011857708,\n",
       "   'std': 709.0873262563655,\n",
       "   'max': 4007}},\n",
       " 'label': {'count': 3,\n",
       "  'min': 51,\n",
       "  'avg': 84.33333333333333,\n",
       "  'std': 32.27313984655902,\n",
       "  'max': 128}}"
      ]
     },
     "execution_count": 2,
     "metadata": {},
     "output_type": "execute_result"
    }
   ],
   "source": [
    "data.stats()"
   ]
  },
  {
   "cell_type": "markdown",
   "metadata": {},
   "source": [
    "The ``stats()`` method returns a dictionary containing statistics about number of trajectories, number of points, average trajectory length, etc. To print the stats in a more human-readable format you can pass ``print_stats=True``."
   ]
  },
  {
   "cell_type": "code",
   "execution_count": 3,
   "metadata": {},
   "outputs": [
    {
     "name": "stdout",
     "output_type": "stream",
     "text": [
      "==========================================================\n",
      "                           STATS                          \n",
      "==========================================================\n",
      "ATTRIBUTE\n",
      "  Count:            6\n",
      "  Min:              6\n",
      "  Max:              6\n",
      "  Avg ± Std:        6.0000 ± 0.0000\n",
      "\n",
      "POINT\n",
      "  Count:            287136\n",
      "\n",
      "TRAJECTORY\n",
      "  Count:            253\n",
      "  Min length:       43\n",
      "  Max lenght:       4007\n",
      "  Avg length ± Std: 1134.9249 ± 709.0873\n",
      "\n",
      "LABEL\n",
      "  Count:            3\n",
      "  Min:              51\n",
      "  Max:              128\n",
      "  Avg ± Std:        84.3333 ± 32.2731\n",
      "==========================================================\n"
     ]
    }
   ],
   "source": [
    "stats = data.stats(print_stats=True)"
   ]
  },
  {
   "cell_type": "code",
   "execution_count": 4,
   "metadata": {},
   "outputs": [
    {
     "data": {
      "text/plain": [
       "['sunrise_time_utc',\n",
       " 'sunset_time_utc',\n",
       " 'obs_weight',\n",
       " 'date_time_utc',\n",
       " 'date_time_local',\n",
       " 'lat_lon']"
      ]
     },
     "execution_count": 4,
     "metadata": {},
     "output_type": "execute_result"
    }
   ],
   "source": [
    "data.get_attributes()"
   ]
  },
  {
   "cell_type": "code",
   "execution_count": 5,
   "metadata": {},
   "outputs": [
    {
     "data": {
      "text/plain": [
       "['cattle', 'deer', 'elk']"
      ]
     },
     "execution_count": 5,
     "metadata": {},
     "output_type": "execute_result"
    }
   ],
   "source": [
    "data.get_labels(unique=True)"
   ]
  },
  {
   "cell_type": "code",
   "execution_count": 7,
   "metadata": {},
   "outputs": [],
   "source": [
    "from trajminer.preprocessing import TrajectorySegmenter\n",
    "from trajminer.utils.distance import haversine\n",
    "\n",
    "segmenter = TrajectorySegmenter(attributes=data.get_attributes(),\n",
    "                                thresholds={'lat_lon': lambda x, y: haversine(x, y) > 100},\n",
    "                                n_jobs=1)\n",
    "new_data = segmenter.fit_transform(data)"
   ]
  },
  {
   "cell_type": "code",
   "execution_count": 8,
   "metadata": {},
   "outputs": [
    {
     "name": "stdout",
     "output_type": "stream",
     "text": [
      "==========================================================\n",
      "                           STATS                          \n",
      "==========================================================\n",
      "ATTRIBUTE\n",
      "  Count:            6\n",
      "  Min:              1\n",
      "  Max:              36\n",
      "  Avg ± Std:        1.4724 ± 1.0909\n",
      "\n",
      "POINT\n",
      "  Count:            195015\n",
      "\n",
      "TRAJECTORY\n",
      "  Count:            253\n",
      "  Min length:       33\n",
      "  Max lenght:       2498\n",
      "  Avg length ± Std: 770.8103 ± 476.6423\n",
      "\n",
      "LABEL\n",
      "  Count:            3\n",
      "  Min:              30871\n",
      "  Max:              116643\n",
      "  Avg ± Std:        65005.0000 ± 37139.3907\n",
      "==========================================================\n"
     ]
    }
   ],
   "source": [
    "new_stats = new_data.stats(print_stats=True)"
   ]
  }
 ],
 "metadata": {
  "kernelspec": {
   "display_name": "Python 3",
   "language": "python",
   "name": "python3"
  },
  "language_info": {
   "codemirror_mode": {
    "name": "ipython",
    "version": 3
   },
   "file_extension": ".py",
   "mimetype": "text/x-python",
   "name": "python",
   "nbconvert_exporter": "python",
   "pygments_lexer": "ipython3",
   "version": "3.6.7"
  }
 },
 "nbformat": 4,
 "nbformat_minor": 2
}
